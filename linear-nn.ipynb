{
 "cells": [
  {
   "cell_type": "code",
   "execution_count": 1,
   "metadata": {},
   "outputs": [],
   "source": [
    "import numpy as np\n",
    "import pandas as pd\n",
    "import seaborn as sns\n",
    "import numpy as np\n",
    "from matplotlib import pyplot as plt"
   ]
  },
  {
   "cell_type": "code",
   "execution_count": 90,
   "metadata": {},
   "outputs": [
    {
     "data": {
      "text/html": [
       "<div>\n",
       "<style scoped>\n",
       "    .dataframe tbody tr th:only-of-type {\n",
       "        vertical-align: middle;\n",
       "    }\n",
       "\n",
       "    .dataframe tbody tr th {\n",
       "        vertical-align: top;\n",
       "    }\n",
       "\n",
       "    .dataframe thead th {\n",
       "        text-align: right;\n",
       "    }\n",
       "</style>\n",
       "<table border=\"1\" class=\"dataframe\">\n",
       "  <thead>\n",
       "    <tr style=\"text-align: right;\">\n",
       "      <th></th>\n",
       "      <th>biking</th>\n",
       "      <th>smoking</th>\n",
       "    </tr>\n",
       "  </thead>\n",
       "  <tbody>\n",
       "    <tr>\n",
       "      <th>0</th>\n",
       "      <td>30.801246</td>\n",
       "      <td>10.896608</td>\n",
       "    </tr>\n",
       "    <tr>\n",
       "      <th>1</th>\n",
       "      <td>65.129215</td>\n",
       "      <td>2.219563</td>\n",
       "    </tr>\n",
       "    <tr>\n",
       "      <th>2</th>\n",
       "      <td>1.959665</td>\n",
       "      <td>17.588331</td>\n",
       "    </tr>\n",
       "    <tr>\n",
       "      <th>3</th>\n",
       "      <td>44.800196</td>\n",
       "      <td>2.802559</td>\n",
       "    </tr>\n",
       "    <tr>\n",
       "      <th>4</th>\n",
       "      <td>69.428454</td>\n",
       "      <td>15.974505</td>\n",
       "    </tr>\n",
       "  </tbody>\n",
       "</table>\n",
       "</div>"
      ],
      "text/plain": [
       "      biking    smoking\n",
       "0  30.801246  10.896608\n",
       "1  65.129215   2.219563\n",
       "2   1.959665  17.588331\n",
       "3  44.800196   2.802559\n",
       "4  69.428454  15.974505"
      ]
     },
     "execution_count": 90,
     "metadata": {},
     "output_type": "execute_result"
    }
   ],
   "source": [
    "df = pd.read_csv('heart_data.csv')\n",
    "df.drop(\"Unnamed: 0\", axis = 1, inplace = True)\n",
    "df.head()\n",
    "\n",
    "X = df.drop('heart.disease', axis = 1)\n",
    "y = df['heart.disease'].to_numpy()\n",
    "\n",
    "X.head()"
   ]
  },
  {
   "cell_type": "code",
   "execution_count": 91,
   "metadata": {},
   "outputs": [
    {
     "name": "stdout",
     "output_type": "stream",
     "text": [
      "35.3143409187982\n",
      "35.314365196858034\n"
     ]
    }
   ],
   "source": [
    "from sklearn.preprocessing import MinMaxScaler\n",
    "scaler = MinMaxScaler()\n",
    "X = scaler.fit_transform(X)\n",
    "\n",
    "# df.min(skipna=False)\n",
    "\n",
    "print((30.801246 - 1.119154) / (1.959665 - 1.119154))\n",
    "print(4.02262007e-01 /  1.13908888e-02)"
   ]
  },
  {
   "cell_type": "code",
   "execution_count": 92,
   "metadata": {},
   "outputs": [],
   "source": [
    "from sklearn.model_selection import train_test_split\n",
    "X_train, X_test, y_train, y_test = train_test_split(X, y, test_size=0.2, random_state=42)"
   ]
  },
  {
   "cell_type": "code",
   "execution_count": 103,
   "metadata": {},
   "outputs": [
    {
     "name": "stdout",
     "output_type": "stream",
     "text": [
      "Model: \"sequential_8\"\n",
      "_________________________________________________________________\n",
      "Layer (type)                 Output Shape              Param #   \n",
      "=================================================================\n",
      "dense_8 (Dense)              (None, 1)                 3         \n",
      "=================================================================\n",
      "Total params: 3\n",
      "Trainable params: 3\n",
      "Non-trainable params: 0\n",
      "_________________________________________________________________\n",
      "None\n",
      "Epoch 1/20\n",
      "13/13 [==============================] - 0s 7ms/step - loss: 38.2527 - val_loss: 16.1139\n",
      "Epoch 2/20\n",
      "13/13 [==============================] - 0s 2ms/step - loss: 16.0643 - val_loss: 11.1277\n",
      "Epoch 3/20\n",
      "13/13 [==============================] - 0s 2ms/step - loss: 11.0246 - val_loss: 7.7982\n",
      "Epoch 4/20\n",
      "13/13 [==============================] - 0s 2ms/step - loss: 7.8665 - val_loss: 5.4148\n",
      "Epoch 5/20\n",
      "13/13 [==============================] - 0s 2ms/step - loss: 5.5224 - val_loss: 4.0397\n",
      "Epoch 6/20\n",
      "13/13 [==============================] - 0s 2ms/step - loss: 3.9837 - val_loss: 2.9270\n",
      "Epoch 7/20\n",
      "13/13 [==============================] - 0s 2ms/step - loss: 2.9282 - val_loss: 2.1698\n",
      "Epoch 8/20\n",
      "13/13 [==============================] - 0s 2ms/step - loss: 2.1874 - val_loss: 1.6550\n",
      "Epoch 9/20\n",
      "13/13 [==============================] - 0s 2ms/step - loss: 1.6716 - val_loss: 1.2811\n",
      "Epoch 10/20\n",
      "13/13 [==============================] - 0s 2ms/step - loss: 1.3081 - val_loss: 1.0053\n",
      "Epoch 11/20\n",
      "13/13 [==============================] - 0s 2ms/step - loss: 1.0669 - val_loss: 0.8742\n",
      "Epoch 12/20\n",
      "13/13 [==============================] - 0s 2ms/step - loss: 0.8863 - val_loss: 0.7542\n",
      "Epoch 13/20\n",
      "13/13 [==============================] - 0s 2ms/step - loss: 0.7602 - val_loss: 0.6797\n",
      "Epoch 14/20\n",
      "13/13 [==============================] - 0s 2ms/step - loss: 0.6702 - val_loss: 0.5941\n",
      "Epoch 15/20\n",
      "13/13 [==============================] - 0s 2ms/step - loss: 0.6043 - val_loss: 0.5341\n",
      "Epoch 16/20\n",
      "13/13 [==============================] - 0s 2ms/step - loss: 0.5603 - val_loss: 0.5161\n",
      "Epoch 17/20\n",
      "13/13 [==============================] - 0s 2ms/step - loss: 0.5177 - val_loss: 0.5207\n",
      "Epoch 18/20\n",
      "13/13 [==============================] - 0s 2ms/step - loss: 0.4959 - val_loss: 0.4795\n",
      "Epoch 19/20\n",
      "13/13 [==============================] - 0s 2ms/step - loss: 0.4751 - val_loss: 0.4649\n",
      "Epoch 20/20\n",
      "13/13 [==============================] - 0s 2ms/step - loss: 0.4631 - val_loss: 0.4663\n"
     ]
    }
   ],
   "source": [
    "from keras.models import Sequential\n",
    "from keras.layers import Dense, Activation, Dropout, Input, InputLayer\n",
    "from tensorflow.keras.optimizers import SGD\n",
    "\n",
    "model = Sequential()\n",
    "model.add(InputLayer(input_shape = (X.shape[1], )))\n",
    "model.add(Dense(1))\n",
    "model.compile(loss='mean_squared_error', optimizer=SGD(learning_rate = 0.1))\n",
    "\n",
    "print(model.summary())\n",
    "\n",
    "history = model.fit(X_train, y_train, verbose = True, epochs = 30, validation_data=(X_test, y_test))"
   ]
  },
  {
   "cell_type": "code",
   "execution_count": 94,
   "metadata": {},
   "outputs": [
    {
     "name": "stdout",
     "output_type": "stream",
     "text": [
      "[[-14.7991705]\n",
      " [  5.261677 ]]\n",
      "[14.886152]\n"
     ]
    }
   ],
   "source": [
    "weights = model.layers[0].get_weights()[0]\n",
    "biases = model.layers[0].get_weights()[1]\n",
    "print(weights)\n",
    "print(biases)"
   ]
  },
  {
   "cell_type": "code",
   "execution_count": 105,
   "metadata": {},
   "outputs": [
    {
     "name": "stdout",
     "output_type": "stream",
     "text": [
      "Mean sq. errror between y_test and predicted = 0.006291499344845265\n"
     ]
    }
   ],
   "source": [
    "prediction_test = model.predict(X_test)    \n",
    "prediction_test\n",
    "\n",
    "print(\"Mean sq. errror between y_test and predicted =\", np.mean(prediction_test-y_test)**2)\n"
   ]
  },
  {
   "cell_type": "code",
   "execution_count": 104,
   "metadata": {},
   "outputs": [
    {
     "data": {
      "image/png": "[encoded data removed]",
      "text/plain": [
       "<Figure size 432x288 with 1 Axes>"
      ]
     },
     "metadata": {
      "needs_background": "light"
     },
     "output_type": "display_data"
    }
   ],
   "source": [
    "#plot the training and validation accuracy and loss at each epoch\n",
    "loss = history.history['loss']\n",
    "val_loss = history.history['val_loss']\n",
    "epochs = range(1, len(loss) + 1)\n",
    "plt.plot(epochs, loss, 'y', label='Training loss')\n",
    "plt.plot(epochs, val_loss, 'r', label='Validation loss')\n",
    "plt.title('Training and validation loss')\n",
    "plt.xlabel('Epochs')\n",
    "plt.ylabel('Loss')\n",
    "plt.legend()\n",
    "plt.show()"
   ]
  },
  {
   "cell_type": "code",
   "execution_count": null,
   "metadata": {},
   "outputs": [],
   "source": []
  }
 ],
 "metadata": {
  "interpreter": {
   "hash": "3067ead486e059ec00ffe7555bdb889e6e264a24dc711bf108106cc7baee8d5d"
  },
  "kernelspec": {
   "display_name": "Python 3.8.8 64-bit (conda)",
   "name": "python3"
  },
  "language_info": {
   "codemirror_mode": {
    "name": "ipython",
    "version": 3
   },
   "file_extension": ".py",
   "mimetype": "text/x-python",
   "name": "python",
   "nbconvert_exporter": "python",
   "pygments_lexer": "ipython3",
   "version": "3.8.8"
  },
  "orig_nbformat": 4
 },
 "nbformat": 4,
 "nbformat_minor": 2
}
