{
 "cells": [
  {
   "cell_type": "code",
   "execution_count": 1,
   "metadata": {},
   "outputs": [],
   "source": [
    "import numpy as np\n",
    "# \n",
    "import seaborn as sns\n",
    "sns.set_style(\"darkgrid\")\n",
    "sns.set_palette(\"pastel\")\n",
    "# \n",
    "from random import randint"
   ]
  },
  {
   "cell_type": "code",
   "execution_count": 67,
   "metadata": {},
   "outputs": [
    {
     "data": {
      "text/html": [
       "Finishing last run (ID:21ikz1rv) before initializing another..."
      ],
      "text/plain": [
       "<IPython.core.display.HTML object>"
      ]
     },
     "metadata": {},
     "output_type": "display_data"
    },
    {
     "data": {
      "text/html": [
       "<br/>Waiting for W&B process to finish, PID 222294... <strong style=\"color:green\">(success).</strong>"
      ],
      "text/plain": [
       "<IPython.core.display.HTML object>"
      ]
     },
     "metadata": {},
     "output_type": "display_data"
    },
    {
     "data": {
      "application/vnd.jupyter.widget-view+json": {
       "model_id": "15ca4b58ff4c44928582884f205ad010",
       "version_major": 2,
       "version_minor": 0
      },
      "text/plain": [
       "VBox(children=(Label(value=' 0.00MB of 0.00MB uploaded (0.00MB deduped)\\r'), FloatProgress(value=1.0, max=1.0)…"
      ]
     },
     "metadata": {},
     "output_type": "display_data"
    },
    {
     "data": {
      "text/html": [
       "<style>\n",
       "    table.wandb td:nth-child(1) { padding: 0 10px; text-align: right }\n",
       "    .wandb-row { display: flex; flex-direction: row; flex-wrap: wrap; width: 100% }\n",
       "    .wandb-col { display: flex; flex-direction: column; flex-basis: 100%; flex: 1; padding: 10px; }\n",
       "    </style>\n",
       "<div class=\"wandb-row\"><div class=\"wandb-col\">\n",
       "</div><div class=\"wandb-col\">\n",
       "</div></div>\n",
       "Synced 5 W&B file(s), 0 media file(s), 0 artifact file(s) and 0 other file(s)\n",
       "<br/>Synced <strong style=\"color:#cdcd00\">giddy-planet-3</strong>: <a href=\"https://wandb.ai/mustafah/my-test-project/runs/21ikz1rv\" target=\"_blank\">https://wandb.ai/mustafah/my-test-project/runs/21ikz1rv</a><br/>\n",
       "Find logs at: <code>./wandb/run-20211026_121406-21ikz1rv/logs</code><br/>\n"
      ],
      "text/plain": [
       "<IPython.core.display.HTML object>"
      ]
     },
     "metadata": {},
     "output_type": "display_data"
    },
    {
     "data": {
      "text/html": [
       "Successfully finished last run (ID:21ikz1rv). Initializing new run:<br/>"
      ],
      "text/plain": [
       "<IPython.core.display.HTML object>"
      ]
     },
     "metadata": {},
     "output_type": "display_data"
    },
    {
     "data": {
      "text/html": [
       "\n",
       "                    Syncing run <strong><a href=\"https://wandb.ai/mustafah/simple-sequential/runs/2l2iq97k\" target=\"_blank\">glad-brook-1</a></strong> to <a href=\"https://wandb.ai/mustafah/simple-sequential\" target=\"_blank\">Weights & Biases</a> (<a href=\"https://docs.wandb.com/integrations/jupyter.html\" target=\"_blank\">docs</a>).<br/>\n",
       "\n",
       "                "
      ],
      "text/plain": [
       "<IPython.core.display.HTML object>"
      ]
     },
     "metadata": {},
     "output_type": "display_data"
    },
    {
     "data": {
      "text/html": [
       "<button onClick=\"this.nextSibling.style.display='block';this.style.display='none';\">Display W&B run</button><iframe src=\"https://wandb.ai/mustafah/simple-sequential/runs/2l2iq97k?jupyter=true\" style=\"border:none;width:100%;height:420px;display:none;\"></iframe>"
      ],
      "text/plain": [
       "<wandb.sdk.wandb_run.Run at 0x7fb6c829f1f0>"
      ]
     },
     "execution_count": 67,
     "metadata": {},
     "output_type": "execute_result"
    }
   ],
   "source": [
    "import wandb\n",
    "from wandb.keras import WandbCallback\n",
    "\n",
    "# 1. Start a new run\n",
    "wandb.init(project='simple-sequential', entity='mustafah')"
   ]
  },
  {
   "cell_type": "code",
   "execution_count": 28,
   "metadata": {},
   "outputs": [
    {
     "data": {
      "text/plain": [
       "<matplotlib.legend.Legend at 0x7fb6f01b10d0>"
      ]
     },
     "execution_count": 28,
     "metadata": {},
     "output_type": "execute_result"
    },
    {
     "data": {
      "image/png": "[encoded data removed]",
      "text/plain": [
       "<Figure size 432x288 with 1 Axes>"
      ]
     },
     "metadata": {},
     "output_type": "display_data"
    }
   ],
   "source": [
    "X_train = []\n",
    "y_train = []\n",
    "\n",
    "PARTICPANTS = 2000\n",
    "\n",
    "GROUP_SIZE = PARTICPANTS // 2\n",
    "\n",
    "for p in range(GROUP_SIZE):\n",
    "    # Half were under 65 years old, 5% of them experienced have side effects\n",
    "    random_young = randint(13, 64)\n",
    "    \n",
    "    X_train.append(random_young)\n",
    "    y_train.append(True if (p / GROUP_SIZE) <= 0.05 else False)\n",
    "\n",
    "    # Half were over 65 years old, 95% of them experienced side effects\n",
    "    random_old = randint(65, 100)\n",
    "    \n",
    "    X_train.append(random_old)\n",
    "    y_train.append(False if (p / GROUP_SIZE) <= 0.05 else True)\n",
    "\n",
    "ax = sns.histplot(data={'x': X_train, 'y': y_train}, x='x', hue='y', legend=False, bins = [13, 65, 100], multiple=\"stack\")\n",
    "\n",
    "ax.legend(title='Has side effects ?', loc='lower right', labels=['Yes', 'No'])\n"
   ]
  },
  {
   "cell_type": "code",
   "execution_count": 57,
   "metadata": {},
   "outputs": [],
   "source": [
    "X_train = np.array(X_train)\n",
    "y_train = np.array(y_train)\n",
    "\n",
    "from sklearn.preprocessing import MinMaxScaler\n",
    "\n",
    "scaler = MinMaxScaler(feature_range=(0,1))\n",
    "scaled_X_train = scaler.fit_transform((X_train).reshape(-1,1))\n",
    "\n",
    "scaled_y_train = scaler.fit_transform((y_train).reshape(-1,1))\n",
    "np.set_printoptions(threshold=2000)\n",
    "\n",
    "# print(y_train, scaled_y_train.reshape((1, -1))[0])"
   ]
  },
  {
   "cell_type": "code",
   "execution_count": 65,
   "metadata": {},
   "outputs": [
    {
     "name": "stdout",
     "output_type": "stream",
     "text": [
      "Epoch 1/20\n",
      "180/180 - 0s - loss: 0.6356 - accuracy: 0.6939 - val_loss: 0.5317 - val_accuracy: 0.7450\n",
      "Epoch 2/20\n",
      "180/180 - 0s - loss: 0.4334 - accuracy: 0.8539 - val_loss: 0.2927 - val_accuracy: 0.9600\n",
      "Epoch 3/20\n",
      "180/180 - 0s - loss: 0.3075 - accuracy: 0.9217 - val_loss: 0.1996 - val_accuracy: 0.9900\n",
      "Epoch 4/20\n",
      "180/180 - 0s - loss: 0.2778 - accuracy: 0.9294 - val_loss: 0.1678 - val_accuracy: 0.9900\n",
      "Epoch 5/20\n",
      "180/180 - 0s - loss: 0.2688 - accuracy: 0.9322 - val_loss: 0.1519 - val_accuracy: 0.9750\n",
      "Epoch 6/20\n",
      "180/180 - 0s - loss: 0.2656 - accuracy: 0.9367 - val_loss: 0.1442 - val_accuracy: 0.9750\n",
      "Epoch 7/20\n",
      "180/180 - 0s - loss: 0.2616 - accuracy: 0.9300 - val_loss: 0.1430 - val_accuracy: 0.9950\n",
      "Epoch 8/20\n",
      "180/180 - 0s - loss: 0.2603 - accuracy: 0.9328 - val_loss: 0.1358 - val_accuracy: 1.0000\n",
      "Epoch 9/20\n",
      "180/180 - 0s - loss: 0.2570 - accuracy: 0.9311 - val_loss: 0.1328 - val_accuracy: 0.9900\n",
      "Epoch 10/20\n",
      "180/180 - 0s - loss: 0.2573 - accuracy: 0.9356 - val_loss: 0.1307 - val_accuracy: 1.0000\n",
      "Epoch 11/20\n",
      "180/180 - 0s - loss: 0.2560 - accuracy: 0.9344 - val_loss: 0.1269 - val_accuracy: 0.9900\n",
      "Epoch 12/20\n",
      "180/180 - 0s - loss: 0.2548 - accuracy: 0.9294 - val_loss: 0.1244 - val_accuracy: 0.9900\n",
      "Epoch 13/20\n",
      "180/180 - 0s - loss: 0.2532 - accuracy: 0.9344 - val_loss: 0.1261 - val_accuracy: 0.9650\n",
      "Epoch 14/20\n",
      "180/180 - 0s - loss: 0.2539 - accuracy: 0.9339 - val_loss: 0.1183 - val_accuracy: 0.9750\n",
      "Epoch 15/20\n",
      "180/180 - 0s - loss: 0.2516 - accuracy: 0.9344 - val_loss: 0.1173 - val_accuracy: 0.9900\n",
      "Epoch 16/20\n",
      "180/180 - 0s - loss: 0.2519 - accuracy: 0.9356 - val_loss: 0.1241 - val_accuracy: 0.9950\n",
      "Epoch 17/20\n",
      "180/180 - 0s - loss: 0.2513 - accuracy: 0.9356 - val_loss: 0.1192 - val_accuracy: 0.9900\n",
      "Epoch 18/20\n",
      "180/180 - 0s - loss: 0.2513 - accuracy: 0.9383 - val_loss: 0.1173 - val_accuracy: 0.9750\n",
      "Epoch 19/20\n",
      "180/180 - 0s - loss: 0.2522 - accuracy: 0.9306 - val_loss: 0.1157 - val_accuracy: 0.9900\n",
      "Epoch 20/20\n",
      "180/180 - 0s - loss: 0.2501 - accuracy: 0.9378 - val_loss: 0.1166 - val_accuracy: 1.0000\n"
     ]
    },
    {
     "data": {
      "text/plain": [
       "<keras.callbacks.History at 0x7fb69c600cd0>"
      ]
     },
     "execution_count": 65,
     "metadata": {},
     "output_type": "execute_result"
    }
   ],
   "source": [
    "import keras\n",
    "from keras import backend as K\n",
    "from keras.models import Sequential\n",
    "from keras.layers import Activation\n",
    "from keras.layers.core import Dense\n",
    "from tensorflow.keras.optimizers import Adam\n",
    "from keras.metrics import categorical_crossentropy\n",
    "\n",
    "model = Sequential([\n",
    "    Dense(16, input_shape = (1,), activation = 'relu'),\n",
    "    Dense(32, activation = 'relu'),\n",
    "    Dense(2, activation = 'softmax')\n",
    "])\n",
    "\n",
    "# model.summary()\n",
    "\n",
    "wandb.config = {\n",
    "  \"learning_rate\": 0.001,\n",
    "  \"epochs\": 20,\n",
    "  \"batch_size\": 10\n",
    "}\n",
    "\n",
    "model.compile(Adam(lr=.001), loss='sparse_categorical_crossentropy', metrics=['accuracy'])\n",
    "model.fit(scaled_X_train, y_train, validation_split=0.1, batch_size=10, epochs=20, shuffle=True, callbacks=[WandbCallback()], verbose=2)\n"
   ]
  },
  {
   "cell_type": "code",
   "execution_count": null,
   "metadata": {},
   "outputs": [],
   "source": []
  }
 ],
 "metadata": {
  "interpreter": {
   "hash": "8d5be1846f2ab00dc0fb9a5ff29b6b46397a6e81906c1a9f9f8476093747372d"
  },
  "kernelspec": {
   "display_name": "Python 3.8.8 64-bit ('base': conda)",
   "name": "python3"
  },
  "language_info": {
   "codemirror_mode": {
    "name": "ipython",
    "version": 3
   },
   "file_extension": ".py",
   "mimetype": "text/x-python",
   "name": "python",
   "nbconvert_exporter": "python",
   "pygments_lexer": "ipython3",
   "version": "3.8.8"
  },
  "orig_nbformat": 4
 },
 "nbformat": 4,
 "nbformat_minor": 2
}
