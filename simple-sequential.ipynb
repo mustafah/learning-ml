{
 "cells": [
  {
   "cell_type": "code",
   "execution_count": 1,
   "metadata": {},
   "outputs": [],
   "source": [
    "import numpy as np\n",
    "# \n",
    "import seaborn as sns\n",
    "sns.set_style(\"darkgrid\")\n",
    "sns.set_palette(\"pastel\")\n",
    "# \n",
    "from random import randint"
   ]
  },
  {
   "cell_type": "code",
   "execution_count": 22,
   "metadata": {},
   "outputs": [
    {
     "data": {
      "image/png": "[encoded data removed]",
      "text/plain": [
       "<Figure size 432x288 with 1 Axes>"
      ]
     },
     "metadata": {},
     "output_type": "display_data"
    }
   ],
   "source": [
    "X_train = []\n",
    "y_train = []\n",
    "\n",
    "PARTICPANTS = 2100\n",
    "\n",
    "\n",
    "for p in range(PARTICPANTS // 2):\n",
    "    # Half were under 65 years old, 5% of them experienced have side effects\n",
    "    random_young = randint(13, 64)\n",
    "    \n",
    "    X_train.append(random_young)\n",
    "    y_train.append(1 if p / PARTICPANTS <= 0.05 else 0)\n",
    "\n",
    "    # Half were over 65 years old, 95% of them experienced side effects\n",
    "    random_old = randint(65, 100)\n",
    "    \n",
    "    X_train.append(random_old)\n",
    "    y_train.append(0 if p / PARTICPANTS <= 0.05 else 1)\n",
    "\n",
    "ax = sns.histplot(X_train, bins = [13, 65, 100])"
   ]
  },
  {
   "cell_type": "code",
   "execution_count": 23,
   "metadata": {},
   "outputs": [],
   "source": [
    "X_train = np.array(X_train)\n",
    "y_train = np.array(y_train)\n",
    "\n",
    "from sklearn.preprocessing import MinMaxScaler\n",
    "\n",
    "scaler = MinMaxScaler(feature_range=(0,1))\n",
    "scaled_X_train = scaler.fit_transform((X_train).reshape(-1,1))"
   ]
  },
  {
   "cell_type": "code",
   "execution_count": 30,
   "metadata": {},
   "outputs": [
    {
     "name": "stdout",
     "output_type": "stream",
     "text": [
      "Model: \"sequential_17\"\n",
      "_________________________________________________________________\n",
      "Layer (type)                 Output Shape              Param #   \n",
      "=================================================================\n",
      "dense_50 (Dense)             (None, 16)                32        \n",
      "_________________________________________________________________\n",
      "dense_51 (Dense)             (None, 32)                544       \n",
      "_________________________________________________________________\n",
      "dense_52 (Dense)             (None, 2)                 66        \n",
      "=================================================================\n",
      "Total params: 642\n",
      "Trainable params: 642\n",
      "Non-trainable params: 0\n",
      "_________________________________________________________________\n",
      "Epoch 1/20\n",
      "189/189 - 0s - loss: 0.4487 - accuracy: 0.8312 - val_loss: 0.2029 - val_accuracy: 0.9429\n",
      "Epoch 2/20\n",
      "189/189 - 0s - loss: 0.4072 - accuracy: 0.8608 - val_loss: 0.1919 - val_accuracy: 0.9810\n",
      "Epoch 3/20\n",
      "189/189 - 0s - loss: 0.4113 - accuracy: 0.8582 - val_loss: 0.2409 - val_accuracy: 1.0000\n",
      "Epoch 4/20\n",
      "189/189 - 0s - loss: 0.4062 - accuracy: 0.8540 - val_loss: 0.1738 - val_accuracy: 0.9429\n",
      "Epoch 5/20\n",
      "189/189 - 0s - loss: 0.3934 - accuracy: 0.8667 - val_loss: 0.1853 - val_accuracy: 0.9667\n",
      "Epoch 6/20\n",
      "189/189 - 0s - loss: 0.3881 - accuracy: 0.8683 - val_loss: 0.1523 - val_accuracy: 0.9429\n",
      "Epoch 7/20\n",
      "189/189 - 0s - loss: 0.3893 - accuracy: 0.8698 - val_loss: 0.1340 - val_accuracy: 0.9714\n",
      "Epoch 8/20\n",
      "189/189 - 0s - loss: 0.3863 - accuracy: 0.8725 - val_loss: 0.1699 - val_accuracy: 0.9952\n",
      "Epoch 9/20\n",
      "189/189 - 0s - loss: 0.3890 - accuracy: 0.8614 - val_loss: 0.1598 - val_accuracy: 0.9429\n",
      "Epoch 10/20\n",
      "189/189 - 0s - loss: 0.3808 - accuracy: 0.8741 - val_loss: 0.1076 - val_accuracy: 0.9952\n",
      "Epoch 11/20\n",
      "189/189 - 0s - loss: 0.3893 - accuracy: 0.8746 - val_loss: 0.2022 - val_accuracy: 0.9952\n",
      "Epoch 12/20\n",
      "189/189 - 0s - loss: 0.3768 - accuracy: 0.8788 - val_loss: 0.1516 - val_accuracy: 0.9952\n",
      "Epoch 13/20\n",
      "189/189 - 0s - loss: 0.3798 - accuracy: 0.8698 - val_loss: 0.1788 - val_accuracy: 0.9714\n",
      "Epoch 14/20\n",
      "189/189 - 0s - loss: 0.3758 - accuracy: 0.8762 - val_loss: 0.1524 - val_accuracy: 0.9857\n",
      "Epoch 15/20\n",
      "189/189 - 0s - loss: 0.3798 - accuracy: 0.8709 - val_loss: 0.1204 - val_accuracy: 0.9905\n",
      "Epoch 16/20\n",
      "189/189 - 0s - loss: 0.3778 - accuracy: 0.8746 - val_loss: 0.1353 - val_accuracy: 1.0000\n",
      "Epoch 17/20\n",
      "189/189 - 0s - loss: 0.3722 - accuracy: 0.8783 - val_loss: 0.1857 - val_accuracy: 0.9905\n",
      "Epoch 18/20\n",
      "189/189 - 0s - loss: 0.3753 - accuracy: 0.8741 - val_loss: 0.1115 - val_accuracy: 1.0000\n",
      "Epoch 19/20\n",
      "189/189 - 0s - loss: 0.3713 - accuracy: 0.8778 - val_loss: 0.1145 - val_accuracy: 1.0000\n",
      "Epoch 20/20\n",
      "189/189 - 0s - loss: 0.3835 - accuracy: 0.8720 - val_loss: 0.1388 - val_accuracy: 0.9952\n"
     ]
    },
    {
     "data": {
      "text/plain": [
       "<keras.callbacks.History at 0x7fcc2be5a850>"
      ]
     },
     "execution_count": 30,
     "metadata": {},
     "output_type": "execute_result"
    }
   ],
   "source": [
    "import keras\n",
    "from keras import backend as K\n",
    "from keras.models import Sequential\n",
    "from keras.layers import Activation\n",
    "from keras.layers.core import Dense\n",
    "from tensorflow.keras.optimizers import Adam\n",
    "from keras.metrics import categorical_crossentropy\n",
    "\n",
    "model = Sequential([\n",
    "    Dense(16, input_shape = (1,), activation = 'relu'),\n",
    "    Dense(32, activation = 'relu'),\n",
    "    Dense(2, activation = 'softmax')\n",
    "])\n",
    "\n",
    "model.summary()\n",
    "\n",
    "model.compile(Adam(lr=.0001), loss='sparse_categorical_crossentropy', metrics=['accuracy'])\n",
    "model.fit(X_train, y_train, validation_split=0.1, batch_size=10, epochs=20, shuffle=True, verbose=2)"
   ]
  },
  {
   "cell_type": "code",
   "execution_count": null,
   "metadata": {},
   "outputs": [],
   "source": []
  }
 ],
 "metadata": {
  "interpreter": {
   "hash": "8d5be1846f2ab00dc0fb9a5ff29b6b46397a6e81906c1a9f9f8476093747372d"
  },
  "kernelspec": {
   "display_name": "Python 3.8.8 64-bit ('base': conda)",
   "name": "python3"
  },
  "language_info": {
   "codemirror_mode": {
    "name": "ipython",
    "version": 3
   },
   "file_extension": ".py",
   "mimetype": "text/x-python",
   "name": "python",
   "nbconvert_exporter": "python",
   "pygments_lexer": "ipython3",
   "version": "3.8.8"
  },
  "orig_nbformat": 4
 },
 "nbformat": 4,
 "nbformat_minor": 2
}
