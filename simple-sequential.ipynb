{
 "cells": [
  {
   "cell_type": "code",
   "execution_count": 59,
   "metadata": {},
   "outputs": [],
   "source": [
    "import numpy as np\n",
    "# \n",
    "import seaborn as sns\n",
    "sns.set_style(\"darkgrid\")\n",
    "sns.set_palette(\"pastel\")\n",
    "# \n",
    "from random import randint"
   ]
  },
  {
   "cell_type": "code",
   "execution_count": 60,
   "metadata": {},
   "outputs": [
    {
     "data": {
      "image/png": "[encoded data removed]",
      "text/plain": [
       "<Figure size 432x288 with 1 Axes>"
      ]
     },
     "metadata": {},
     "output_type": "display_data"
    }
   ],
   "source": [
    "X_train = []\n",
    "y_train = []\n",
    "\n",
    "PARTICPANTS = 300\n",
    "\n",
    "\n",
    "for p in range(PARTICPANTS // 2):\n",
    "    # Half were under 65 years old, 5% of them experienced have side effects\n",
    "    random_young = randint(13, 64)\n",
    "    \n",
    "    X_train.append(random_young)\n",
    "    y_train.append(1 if p / PARTICPANTS <= 0.05 else 0)\n",
    "\n",
    "    # Half were over 65 years old, 95% of them experienced side effects\n",
    "    random_old = randint(65, 100)\n",
    "    \n",
    "    X_train.append(random_old)\n",
    "    y_train.append(0 if p / PARTICPANTS <= 0.05 else 1)\n",
    "\n",
    "ax = sns.histplot(X_train, bins = [13, 65, 100])"
   ]
  },
  {
   "cell_type": "code",
   "execution_count": null,
   "metadata": {},
   "outputs": [],
   "source": []
  }
 ],
 "metadata": {
  "interpreter": {
   "hash": "cd25f84e01164a8083cb187e9adc32406afbd41868729d2d3940d9276a747d00"
  },
  "kernelspec": {
   "display_name": "Python 3.8.8 64-bit ('base': conda)",
   "name": "python3"
  },
  "language_info": {
   "codemirror_mode": {
    "name": "ipython",
    "version": 3
   },
   "file_extension": ".py",
   "mimetype": "text/x-python",
   "name": "python",
   "nbconvert_exporter": "python",
   "pygments_lexer": "ipython3",
   "version": "3.8.8"
  },
  "orig_nbformat": 4
 },
 "nbformat": 4,
 "nbformat_minor": 2
}
