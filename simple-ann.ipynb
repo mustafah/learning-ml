{
 "cells": [
  {
   "cell_type": "code",
   "execution_count": 32,
   "source": [
    "import numpy as np\n",
    "import pandas as pd\n",
    "\n",
    "def generate_data_points(features_count, points_count):\n",
    "    rnd = np.random.default_rng()\n",
    "\n",
    "    X = rnd.random((points_count, features_count))\n",
    "    weights = rnd.random(features_count)\n",
    "    y = np.random.choice([0, 1], points_count)\n",
    "    df = pd.DataFrame(X)\n",
    "    df.columns = [f\"x{col}\" for col in df.columns]\n",
    "    df['y'] = y\n",
    "\n",
    "    bias = 0.5\n",
    "    return df, weights, bias\n",
    "\n",
    "df, weights, bias = generate_data_points(features_count = 3, points_count = 2)\n",
    "\n",
    "print(df)\n",
    "print(weights)\n",
    "print(bias)"
   ],
   "outputs": [
    {
     "output_type": "stream",
     "name": "stdout",
     "text": [
      "         x0        x1        x2  y\n",
      "0  0.950864  0.074868  0.809277  1\n",
      "1  0.290610  0.372912  0.546745  1\n",
      "[0.81156129 0.37477091 0.94346405]\n",
      "0.5\n",
      "0\n",
      "x = \n",
      " x0    0.950864\n",
      "x1    0.074868\n",
      "x2    0.809277\n",
      "Name: 0, dtype: float64\n",
      "weights = \n",
      " [0.81156129 0.37477091 0.94346405]\n",
      "2.063267060881231\n",
      "1\n",
      "x = \n",
      " x0    0.290610\n",
      "x1    0.372912\n",
      "x2    0.546745\n",
      "Name: 1, dtype: float64\n",
      "weights = \n",
      " [0.81156129 0.37477091 0.94346405]\n",
      "1.3914387364214793\n"
     ]
    }
   ],
   "metadata": {}
  },
  {
   "cell_type": "code",
   "execution_count": 36,
   "source": [
    "def get_weighted_sum(X, weights, bias):\n",
    "    print('x = \\n', X)\n",
    "    print('weights = \\n', weights)\n",
    "    return np.dot(X, weights) + bias\n",
    "\n",
    "for i in range(len(df)):\n",
    "    print(f\"{i} = \")\n",
    "    print(get_weighted_sum(df.loc[i][:-1], weights, bias))\n",
    "    print(\"---\")"
   ],
   "outputs": [
    {
     "output_type": "stream",
     "name": "stdout",
     "text": [
      "0 = \n",
      "x = \n",
      " x0    0.950864\n",
      "x1    0.074868\n",
      "x2    0.809277\n",
      "Name: 0, dtype: float64\n",
      "weights = \n",
      " [0.81156129 0.37477091 0.94346405]\n",
      "2.063267060881231\n",
      "---\n",
      "1 = \n",
      "x = \n",
      " x0    0.290610\n",
      "x1    0.372912\n",
      "x2    0.546745\n",
      "Name: 1, dtype: float64\n",
      "weights = \n",
      " [0.81156129 0.37477091 0.94346405]\n",
      "1.3914387364214793\n",
      "---\n"
     ]
    }
   ],
   "metadata": {}
  },
  {
   "cell_type": "markdown",
   "source": [],
   "metadata": {}
  },
  {
   "cell_type": "code",
   "execution_count": 37,
   "source": [],
   "outputs": [
    {
     "output_type": "execute_result",
     "data": {
      "text/plain": [
       "1.56326651893629"
      ]
     },
     "metadata": {},
     "execution_count": 37
    }
   ],
   "metadata": {}
  }
 ],
 "metadata": {
  "interpreter": {
   "hash": "89822866ef2ccc88aed7310e6c3c948b0075642d3e051b021ffe27316f667238"
  },
  "kernelspec": {
   "name": "python3",
   "display_name": "Python 3.8.8 64-bit ('base': conda)"
  },
  "language_info": {
   "codemirror_mode": {
    "name": "ipython",
    "version": 3
   },
   "file_extension": ".py",
   "mimetype": "text/x-python",
   "name": "python",
   "nbconvert_exporter": "python",
   "pygments_lexer": "ipython3",
   "version": "3.8.8"
  },
  "orig_nbformat": 4
 },
 "nbformat": 4,
 "nbformat_minor": 2
}