{
 "cells": [
  {
   "cell_type": "code",
   "execution_count": 29,
   "metadata": {},
   "outputs": [
    {
     "name": "stdout",
     "output_type": "stream",
     "text": [
      "         x0        x1        x2  y\n",
      "0  0.432102  0.655653  0.458197  1\n",
      "1  0.139320  0.740261  0.880486  1\n",
      "[0.56196278 0.56075703 0.91971545]\n"
     ]
    }
   ],
   "source": [
    "import numpy as np\n",
    "import pandas as pd\n",
    "\n",
    "rnd = np.random.default_rng()\n",
    "\n",
    "def generate_data_points(features_count, points_count):\n",
    "    X = rnd.random((points_count, features_count))\n",
    "    weights = rnd.random(features_count)\n",
    "    y = np.random.choice([0, 1], points_count)\n",
    "    df = pd.DataFrame(X)\n",
    "    df.columns = [f\"x{col}\" for col in df.columns]\n",
    "    df['y'] = y\n",
    "    return df, weights\n",
    "    \n",
    "\n",
    "df, weights = generate_data_points(features_count = 3, points_count = 2)\n",
    "\n",
    "print(df)\n",
    "print(weights)"
   ]
  },
  {
   "cell_type": "markdown",
   "metadata": {},
   "source": []
  },
  {
   "cell_type": "code",
   "execution_count": null,
   "metadata": {},
   "outputs": [],
   "source": []
  }
 ],
 "metadata": {
  "interpreter": {
   "hash": "cd25f84e01164a8083cb187e9adc32406afbd41868729d2d3940d9276a747d00"
  },
  "kernelspec": {
   "display_name": "Python 3.8.8 64-bit ('base': conda)",
   "name": "python3"
  },
  "language_info": {
   "codemirror_mode": {
    "name": "ipython",
    "version": 3
   },
   "file_extension": ".py",
   "mimetype": "text/x-python",
   "name": "python",
   "nbconvert_exporter": "python",
   "pygments_lexer": "ipython3",
   "version": "3.8.8"
  },
  "orig_nbformat": 4
 },
 "nbformat": 4,
 "nbformat_minor": 2
}
